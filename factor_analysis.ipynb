{
 "cells": [
  {
   "cell_type": "markdown",
   "metadata": {},
   "source": [
    "### Cronbach's alpha"
   ]
  },
  {
   "cell_type": "code",
   "execution_count": 1,
   "metadata": {},
   "outputs": [
    {
     "name": "stdout",
     "output_type": "stream",
     "text": [
      "Cronbach's alpha for positive emotions: 0.689\n",
      "Cronbach's alpha for negative emotions: 0.851\n",
      "Cronbach's alpha for all PANAS items: 0.739\n"
     ]
    }
   ],
   "source": [
    "import os\n",
    "import pandas as pd\n",
    "import pingouin as pg\n",
    "\n",
    "# 读取Excel文件\n",
    "df = pd.read_excel('dataset/DAPPER/Psychol_Rec/ESM.xlsx')\n",
    "\n",
    "participants = [int(id.split('.')[0]) for id in os.listdir('DAPPER_match_clips')]\n",
    "df = df[df['Participant ID'].isin(participants)]\n",
    "\n",
    "emotion_map = {\n",
    "    'PANAS_1': 'upset',\n",
    "    'PANAS_2': 'hostile',\n",
    "    'PANAS_3': 'alert',\n",
    "    'PANAS_4': 'ashamed',\n",
    "    'PANAS_5': 'inspired',\n",
    "    'PANAS_6': 'nervous',\n",
    "    'PANAS_7': 'determined',\n",
    "    'PANAS_8': 'attentive',\n",
    "    'PANAS_9': 'afraid',\n",
    "    'PANAS_10': 'active',\n",
    "}\n",
    "\n",
    "# 定义PANAS正面和负面情绪项目\n",
    "positive_items = ['PANAS_3', 'PANAS_5', 'PANAS_7', 'PANAS_8', 'PANAS_10']\n",
    "negative_items = ['PANAS_1', 'PANAS_2', 'PANAS_4', 'PANAS_6', 'PANAS_9']\n",
    "\n",
    "# 计算正面情绪的Cronbach's alpha\n",
    "alpha_positive = pg.cronbach_alpha(data=df[positive_items])\n",
    "\n",
    "# 计算负面情绪的Cronbach's alpha\n",
    "alpha_negative = pg.cronbach_alpha(data=df[negative_items])\n",
    "\n",
    "print(f\"Cronbach's alpha for positive emotions: {alpha_positive[0]:.3f}\")\n",
    "print(f\"Cronbach's alpha for negative emotions: {alpha_negative[0]:.3f}\")\n",
    "\n",
    "# 可选：计算所有PANAS项目的Cronbach's alpha\n",
    "all_items = positive_items + negative_items\n",
    "alpha_all = pg.cronbach_alpha(data=df[all_items])\n",
    "print(f\"Cronbach's alpha for all PANAS items: {alpha_all[0]:.3f}\")"
   ]
  },
  {
   "cell_type": "code",
   "execution_count": null,
   "metadata": {},
   "outputs": [
    {
     "name": "stdout",
     "output_type": "stream",
     "text": [
      "Cronbach's alpha for positive emotions: 0.782\n",
      "Cronbach's alpha for negative emotions: 0.871\n",
      "Cronbach's alpha for all PANAS items: 0.739\n"
     ]
    }
   ],
   "source": [
    "import os\n",
    "import pandas as pd\n",
    "import pingouin as pg\n",
    "\n",
    "# 读取Excel文件\n",
    "df = pd.read_excel('dataset/DAPPER/Psychol_Rec/ESM.xlsx')\n",
    "\n",
    "participants = [int(id.split('.')[0]) for id in os.listdir('DAPPER_match_clips')]\n",
    "df = df[df['Participant ID'].isin(participants)]\n",
    "\n",
    "emotion_map = {\n",
    "    'PANAS_1': 'upset',\n",
    "    'PANAS_2': 'hostile',\n",
    "    'PANAS_3': 'alert',\n",
    "    'PANAS_4': 'ashamed',\n",
    "    'PANAS_5': 'inspired',\n",
    "    'PANAS_6': 'nervous',\n",
    "    'PANAS_7': 'determined',\n",
    "    'PANAS_8': 'attentive',\n",
    "    'PANAS_9': 'afraid',\n",
    "    'PANAS_10': 'active',\n",
    "}\n",
    "\n",
    "# 定义PANAS正面和负面情绪项目\n",
    "positive_items = ['PANAS_5', 'PANAS_7', 'PANAS_8', 'PANAS_10']\n",
    "negative_items = ['PANAS_1', 'PANAS_2', 'PANAS_3', 'PANAS_4', 'PANAS_6', 'PANAS_9']\n",
    "\n",
    "# 计算正面情绪的Cronbach's alpha\n",
    "alpha_positive = pg.cronbach_alpha(data=df[positive_items])\n",
    "\n",
    "# 计算负面情绪的Cronbach's alpha\n",
    "alpha_negative = pg.cronbach_alpha(data=df[negative_items])\n",
    "\n",
    "print(f\"Cronbach's alpha for positive emotions: {alpha_positive[0]:.3f}\")\n",
    "print(f\"Cronbach's alpha for negative emotions: {alpha_negative[0]:.3f}\")\n",
    "\n",
    "# 可选：计算所有PANAS项目的Cronbach's alpha\n",
    "all_items = positive_items + negative_items\n",
    "alpha_all = pg.cronbach_alpha(data=df[all_items])\n",
    "print(f\"Cronbach's alpha for all PANAS items: {alpha_all[0]:.3f}\")\n",
    "# 重新归类后的 Cronbach's alpha 值也说明了在中文语境下 alert 更偏向于消极状态"
   ]
  },
  {
   "cell_type": "markdown",
   "metadata": {},
   "source": [
    "### Factor analysis"
   ]
  },
  {
   "cell_type": "code",
   "execution_count": 2,
   "metadata": {},
   "outputs": [
    {
     "name": "stdout",
     "output_type": "stream",
     "text": [
      "Bartlett's球形检验 - p值: 0.0\n",
      "KMO检验值: 0.8396614865597778\n"
     ]
    }
   ],
   "source": [
    "from factor_analyzer.factor_analyzer import calculate_bartlett_sphericity, calculate_kmo\n",
    "# 读取Excel文件\n",
    "df = pd.read_excel('dataset/DAPPER/Psychol_Rec/ESM.xlsx')\n",
    "\n",
    "participants = [int(id.split('.')[0]) for id in os.listdir('DAPPER_match_clips')]\n",
    "df = df[df['Participant ID'].isin(participants)]\n",
    "\n",
    "emotion_map = {\n",
    "    'PANAS_1': 'upset',\n",
    "    'PANAS_2': 'hostile',\n",
    "    'PANAS_3': 'alert',\n",
    "    'PANAS_4': 'ashamed',\n",
    "    'PANAS_5': 'inspired',\n",
    "    'PANAS_6': 'nervous',\n",
    "    'PANAS_7': 'determined',\n",
    "    'PANAS_8': 'attentive',\n",
    "    'PANAS_9': 'afraid',\n",
    "    'PANAS_10': 'active',\n",
    "}\n",
    "\n",
    "panas_data = df[[\"PANAS_1\", \"PANAS_2\", \"PANAS_3\", \"PANAS_4\", \"PANAS_5\", \"PANAS_6\", \"PANAS_7\", \"PANAS_8\", \"PANAS_9\", \"PANAS_10\"]]\n",
    "chi_square_value, p_value = calculate_bartlett_sphericity(panas_data)\n",
    "kmo_all, kmo_model = calculate_kmo(panas_data)\n",
    "print(\"Bartlett's球形检验 - p值:\", p_value)\n",
    "print(\"KMO检验值:\", kmo_model)"
   ]
  },
  {
   "cell_type": "code",
   "execution_count": null,
   "metadata": {},
   "outputs": [
    {
     "name": "stdout",
     "output_type": "stream",
     "text": [
      "因子载荷矩阵:\n",
      "[[ 0.79846183 -0.08869736]\n",
      " [ 0.63757496 -0.03248146]\n",
      " [ 0.72021542  0.09157001]\n",
      " [ 0.65712137 -0.09014208]\n",
      " [-0.01489768  0.69034112]\n",
      " [ 0.7750998   0.06054224]\n",
      " [-0.03179498  0.74631073]\n",
      " [-0.0380075   0.68526531]\n",
      " [ 0.79087859 -0.02757412]\n",
      " [-0.01051262  0.62737623]]\n"
     ]
    }
   ],
   "source": [
    "from factor_analyzer import FactorAnalyzer\n",
    "fa = FactorAnalyzer(n_factors=2, rotation=\"varimax\")\n",
    "fa.fit(panas_data)\n",
    "loadings = fa.loadings_\n",
    "print(\"因子载荷矩阵:\")\n",
    "print(loadings)\n",
    "# 可以看到 PANAS_3 (alert) 在消极因子的载荷很大, 虽然 PANAS 量表中 alert 被认为是积极情绪, 但显然在中文情境下非常容易被看作是消极情绪"
   ]
  },
  {
   "cell_type": "code",
   "execution_count": null,
   "metadata": {},
   "outputs": [],
   "source": []
  }
 ],
 "metadata": {
  "kernelspec": {
   "display_name": "mne",
   "language": "python",
   "name": "python3"
  },
  "language_info": {
   "codemirror_mode": {
    "name": "ipython",
    "version": 3
   },
   "file_extension": ".py",
   "mimetype": "text/x-python",
   "name": "python",
   "nbconvert_exporter": "python",
   "pygments_lexer": "ipython3",
   "version": "3.11.10"
  }
 },
 "nbformat": 4,
 "nbformat_minor": 2
}
